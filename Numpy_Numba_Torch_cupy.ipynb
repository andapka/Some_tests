{
 "cells": [
  {
   "cell_type": "markdown",
   "metadata": {},
   "source": [
    "feature_list:  \n",
    " - 100000 vectors\n",
    " - 512 dimension  \n",
    "  \n",
    "Goal:  \n",
    "find a library that calculates cosine_similarity faster"
   ]
  },
  {
   "cell_type": "code",
   "execution_count": 1,
   "metadata": {},
   "outputs": [],
   "source": [
    "import pickle\n",
    "import numpy as np\n",
    "import math\n",
    "import time, timeit"
   ]
  },
  {
   "cell_type": "code",
   "execution_count": 2,
   "metadata": {},
   "outputs": [],
   "source": [
    "with open('feature_list.txt', \"rb\") as fp:   \n",
    "        data_dict = pickle.load(fp)"
   ]
  },
  {
   "cell_type": "code",
   "execution_count": 3,
   "metadata": {},
   "outputs": [],
   "source": [
    "values_list = []\n",
    "for i in range(len(data_dict)):\n",
    "    for k, v in data_dict[i].items():\n",
    "        values_list.append(v)"
   ]
  },
  {
   "cell_type": "code",
   "execution_count": 4,
   "metadata": {},
   "outputs": [],
   "source": [
    "value_1 = values_list[0]"
   ]
  },
  {
   "cell_type": "code",
   "execution_count": 5,
   "metadata": {},
   "outputs": [],
   "source": [
    "num_times = 100"
   ]
  },
  {
   "cell_type": "code",
   "execution_count": 6,
   "metadata": {},
   "outputs": [],
   "source": [
    "def new_list(buf_list, idx):\n",
    "    return buf_list[1:idx+1]"
   ]
  },
  {
   "cell_type": "code",
   "execution_count": 7,
   "metadata": {},
   "outputs": [],
   "source": [
    "def avg_t(t, num):\n",
    "        return np.mean(t) / num"
   ]
  },
  {
   "cell_type": "code",
   "execution_count": 8,
   "metadata": {},
   "outputs": [],
   "source": [
    "def format_t(t):\n",
    "    \"\"\"Turn t into nice formating\"\"\"\n",
    "    if t < 1e-3:\n",
    "        return \"{:.3f} ns\".format(t * 1e6)\n",
    "    elif t < 1:\n",
    "        return \"{:.3f} ms\".format(t * 1e3)\n",
    "    else:\n",
    "        return \"{:.2f} s\".format(t)"
   ]
  },
  {
   "cell_type": "code",
   "execution_count": 9,
   "metadata": {},
   "outputs": [],
   "source": [
    "cases = [300, 1000, 10000, 99999]"
   ]
  },
  {
   "cell_type": "code",
   "execution_count": 10,
   "metadata": {},
   "outputs": [],
   "source": [
    "values_300 = new_list(values_list, 300)\n",
    "values_1000 = new_list(values_list, 1000)\n",
    "values_10000 = new_list(values_list, 10000)\n",
    "values_99999 = new_list(values_list, 99999)"
   ]
  },
  {
   "cell_type": "markdown",
   "metadata": {},
   "source": [
    "# Numpy"
   ]
  },
  {
   "cell_type": "code",
   "execution_count": 11,
   "metadata": {},
   "outputs": [
    {
     "name": "stdout",
     "output_type": "stream",
     "text": [
      "time = 1.297 ms\n"
     ]
    }
   ],
   "source": [
    "results = []\n",
    "total_time = 0\n",
    "for i in range(num_times):\n",
    "    start_time = time.time()\n",
    "    for item in values_300:\n",
    "        cosine = np.dot(value_1, item)\n",
    "        theta = np.arccos(cosine)\n",
    "        theta = theta * 180 / np.pi\n",
    "        results.append(theta)\n",
    "    total_time += (time.time() - start_time)\n",
    "print('time = {}'.format(format_t(avg_t(total_time, num_times))))"
   ]
  },
  {
   "cell_type": "code",
   "execution_count": 12,
   "metadata": {},
   "outputs": [],
   "source": [
    "def calc_numpy(buf_vec, buf_data, buf_times):\n",
    "    total_time = 0\n",
    "    for i in range(buf_times):\n",
    "        results = []\n",
    "        start_time = time.time()\n",
    "        for item in buf_data:\n",
    "            cosine = np.dot(buf_vec, item)\n",
    "            theta = np.arccos(cosine)\n",
    "            theta = theta * 180 / np.pi\n",
    "            results.append(theta)\n",
    "        total_time += (time.time() - start_time)\n",
    "    return total_time"
   ]
  },
  {
   "cell_type": "code",
   "execution_count": 13,
   "metadata": {},
   "outputs": [
    {
     "name": "stdout",
     "output_type": "stream",
     "text": [
      "Calculation time for 300 = 1.252 ms\n",
      "Calculation time for 1000 = 4.059 ms\n",
      "Calculation time for 10000 = 41.350 ms\n",
      "Calculation time for 99999 = 411.746 ms\n"
     ]
    }
   ],
   "source": [
    "vecs_list = [values_300, values_1000, values_10000, values_99999]\n",
    "# vecs_list = [values_300, values_1000]\n",
    "for item in list(zip(cases,vecs_list)):\n",
    "    t = calc_numpy(value_1, item[1], num_times)\n",
    "    print('Calculation time for {} = {}'.format(item[0], format_t(avg_t(t, num_times))))"
   ]
  },
  {
   "cell_type": "markdown",
   "metadata": {},
   "source": [
    "# Numpy + math"
   ]
  },
  {
   "cell_type": "code",
   "execution_count": 14,
   "metadata": {},
   "outputs": [],
   "source": [
    "def calc_numpy_math(buf_vec, buf_data, buf_times):\n",
    "    total_time = 0\n",
    "    for i in range(buf_times):\n",
    "        results = []\n",
    "        start_time = time.time()\n",
    "        for item in buf_data:\n",
    "            cosine = np.dot(buf_vec, item)\n",
    "            theta = math.acos(cosine)\n",
    "            theta = theta * 180 / math.pi\n",
    "            results.append(theta)\n",
    "        total_time += (time.time() - start_time)\n",
    "    return total_time"
   ]
  },
  {
   "cell_type": "code",
   "execution_count": 15,
   "metadata": {},
   "outputs": [
    {
     "name": "stdout",
     "output_type": "stream",
     "text": [
      "Calculation time for 300 = 329.142 ns\n",
      "Calculation time for 1000 = 1.087 ms\n",
      "Calculation time for 10000 = 11.336 ms\n",
      "Calculation time for 99999 = 116.032 ms\n"
     ]
    }
   ],
   "source": [
    "for item in list(zip(cases,vecs_list)):\n",
    "    t = calc_numpy_math(value_1, item[1], num_times)\n",
    "    print('Calculation time for {} = {}'.format(item[0], format_t(avg_t(t, num_times))))"
   ]
  },
  {
   "cell_type": "markdown",
   "metadata": {},
   "source": [
    "# Torch"
   ]
  },
  {
   "cell_type": "code",
   "execution_count": 17,
   "metadata": {},
   "outputs": [],
   "source": [
    "import torch"
   ]
  },
  {
   "cell_type": "code",
   "execution_count": 18,
   "metadata": {},
   "outputs": [],
   "source": [
    "import torch.nn.functional as F"
   ]
  },
  {
   "cell_type": "code",
   "execution_count": 19,
   "metadata": {},
   "outputs": [
    {
     "data": {
      "text/plain": [
       "True"
      ]
     },
     "execution_count": 19,
     "metadata": {},
     "output_type": "execute_result"
    }
   ],
   "source": [
    "torch.cuda.is_available()"
   ]
  },
  {
   "cell_type": "code",
   "execution_count": 20,
   "metadata": {},
   "outputs": [
    {
     "data": {
      "text/plain": [
       "'GeForce RTX 2080'"
      ]
     },
     "execution_count": 20,
     "metadata": {},
     "output_type": "execute_result"
    }
   ],
   "source": [
    "torch.cuda.get_device_name(0)"
   ]
  },
  {
   "cell_type": "code",
   "execution_count": 21,
   "metadata": {},
   "outputs": [],
   "source": [
    "tensor_value_1 = torch.from_numpy(value_1).cuda()"
   ]
  },
  {
   "cell_type": "markdown",
   "metadata": {},
   "source": [
    "### CPU -> GPU -> CPU"
   ]
  },
  {
   "cell_type": "code",
   "execution_count": 22,
   "metadata": {},
   "outputs": [],
   "source": [
    "def calc_torch_tr__(buf_vec, buf_data, buf_times):\n",
    "    total_time = 0\n",
    "    for i in range(buf_times):\n",
    "        results = []\n",
    "        step_time = 0\n",
    "        for j in range(len(buf_data)):\n",
    "            t0 = time.time()\n",
    "            item_torch = torch.from_numpy(buf_data[j]).cuda()\n",
    "            output = F.cosine_similarity(tensor_value_1, item_torch, dim=-1)\n",
    "            output = output.cpu().numpy()\n",
    "            results.append(output)\n",
    "            if j > 0:\n",
    "                step_time += time.time() - t0\n",
    "            #print('{:.7f}'.format(step_time))\n",
    "        #print('#################################')\n",
    "        total_time += step_time\n",
    "    return total_time"
   ]
  },
  {
   "cell_type": "code",
   "execution_count": 23,
   "metadata": {},
   "outputs": [],
   "source": [
    "torch_vecs_list = [values_300, values_1000]"
   ]
  },
  {
   "cell_type": "code",
   "execution_count": 24,
   "metadata": {},
   "outputs": [
    {
     "name": "stdout",
     "output_type": "stream",
     "text": [
      "Calculation time for 300 = 118.566 ms\n",
      "Calculation time for 1000 = 381.944 ms\n"
     ]
    }
   ],
   "source": [
    "for item in list(zip(cases,torch_vecs_list)):\n",
    "    t = calc_torch_tr__(tensor_value_1, item[1], num_times)\n",
    "    print('Calculation time for {} = {}'.format(item[0], format_t(avg_t(t, num_times))))"
   ]
  },
  {
   "cell_type": "markdown",
   "metadata": {},
   "source": [
    "### GPU"
   ]
  },
  {
   "cell_type": "code",
   "execution_count": 25,
   "metadata": {},
   "outputs": [],
   "source": [
    "list_tensor_300 = [torch.from_numpy(item).cuda() for item in values_300]\n",
    "list_tensor_1000 = [torch.from_numpy(item).cuda() for item in values_1000]\n",
    "list_tensor_10000 = [torch.from_numpy(item).cuda() for item in values_10000]\n",
    "list_tensor_99999 = [torch.from_numpy(item).cuda() for item in values_99999]\n",
    "# torch_list = [list_tensor_300, list_tensor_1000, list_tensor_10000, list_tensor_99999]\n",
    "torch_list = [list_tensor_300, list_tensor_1000]"
   ]
  },
  {
   "cell_type": "code",
   "execution_count": 26,
   "metadata": {},
   "outputs": [],
   "source": [
    "def calc_torch(buf_vec, buf_data, buf_times):\n",
    "    total_time = 0\n",
    "    for i in range(buf_times):\n",
    "        #start_time = time.time()\n",
    "        step_time = 0\n",
    "        for item in buf_data:\n",
    "            t0 = time.time()\n",
    "            output = F.cosine_similarity(buf_vec, item, dim=-1)\n",
    "            step_time += time.time() - t0\n",
    "            #print('{:.7f}'.format(step_time))\n",
    "        #total_time += (time.time() - start_time)\n",
    "        #print('#################################')\n",
    "        total_time += step_time\n",
    "    return total_time"
   ]
  },
  {
   "cell_type": "code",
   "execution_count": 27,
   "metadata": {},
   "outputs": [
    {
     "name": "stdout",
     "output_type": "stream",
     "text": [
      "Calculation time for 300 = 80.085 ms\n",
      "Calculation time for 1000 = 273.835 ms\n"
     ]
    }
   ],
   "source": [
    "for item in list(zip(cases,torch_list)):\n",
    "    t = calc_torch(tensor_value_1, item[1], num_times)\n",
    "    print('Calculation time for {} = {}'.format(item[0], format_t(avg_t(t, num_times))))"
   ]
  },
  {
   "cell_type": "markdown",
   "metadata": {},
   "source": [
    "# Sklearn"
   ]
  },
  {
   "cell_type": "code",
   "execution_count": 28,
   "metadata": {},
   "outputs": [],
   "source": [
    "from sklearn.metrics.pairwise import cosine_similarity"
   ]
  },
  {
   "cell_type": "code",
   "execution_count": 29,
   "metadata": {},
   "outputs": [],
   "source": [
    "sklearn_value_1 = value_1.reshape(1,-1)"
   ]
  },
  {
   "cell_type": "code",
   "execution_count": 30,
   "metadata": {},
   "outputs": [],
   "source": [
    "list_sklearn_300 = [item.reshape(1,-1) for item in values_300]\n",
    "list_sklearn_1000 = [item.reshape(1,-1) for item in values_1000]\n",
    "list_sklearn_10000 = [item.reshape(1,-1) for item in values_10000]\n",
    "list_sklearn_99999 = [item.reshape(1,-1) for item in values_99999]\n",
    "# sklearn_list = [list_sklearn_300, list_sklearn_1000, list_sklearn_10000, list_sklearn_99999]\n",
    "sklearn_list = [list_sklearn_300, list_sklearn_1000]"
   ]
  },
  {
   "cell_type": "code",
   "execution_count": 31,
   "metadata": {},
   "outputs": [],
   "source": [
    "def calc_sklearn(buf_vec, buf_data, buf_times):\n",
    "    total_time = 0\n",
    "    for i in range(buf_times):\n",
    "        start_time = time.time()\n",
    "        for item in buf_data:\n",
    "            cosine = cosine_similarity(buf_vec, item)\n",
    "        total_time += (time.time() - start_time)\n",
    "    return total_time"
   ]
  },
  {
   "cell_type": "code",
   "execution_count": 32,
   "metadata": {},
   "outputs": [
    {
     "name": "stdout",
     "output_type": "stream",
     "text": [
      "Calculation time for 300 = 39.014 ms\n",
      "Calculation time for 1000 = 132.089 ms\n"
     ]
    }
   ],
   "source": [
    "for item in list(zip(cases,sklearn_list)):\n",
    "    t = calc_sklearn(sklearn_value_1, item[1], num_times)\n",
    "    print('Calculation time for {} = {}'.format(item[0], format_t(avg_t(t, num_times))))"
   ]
  },
  {
   "cell_type": "markdown",
   "metadata": {},
   "source": [
    "# Numba"
   ]
  },
  {
   "cell_type": "code",
   "execution_count": 33,
   "metadata": {},
   "outputs": [],
   "source": [
    "import numba\n",
    "from numba import jit, guvectorize, float32, cuda"
   ]
  },
  {
   "cell_type": "markdown",
   "metadata": {},
   "source": [
    "### @jit"
   ]
  },
  {
   "cell_type": "code",
   "execution_count": 34,
   "metadata": {},
   "outputs": [],
   "source": [
    "@jit(fastmath=True)\n",
    "def calc_cosine(a, b):\n",
    "    cosine = np.dot(a, b)\n",
    "    theta = math.acos(cosine)\n",
    "    theta = theta * 180 / math.pi\n",
    "    \n",
    "    return theta"
   ]
  },
  {
   "cell_type": "code",
   "execution_count": 35,
   "metadata": {},
   "outputs": [
    {
     "name": "stdout",
     "output_type": "stream",
     "text": [
      "Calculation time for 300 = 2.883 ms\n",
      "Calculation time for 1000 = 538.542 ns\n",
      "Calculation time for 10000 = 6.044 ms\n",
      "Calculation time for 99999 = 60.673 ms\n"
     ]
    }
   ],
   "source": [
    "for item in list(zip(cases,vecs_list)):\n",
    "    t = 0\n",
    "    for i in range(num_times):\n",
    "        results = []\n",
    "        start_time = time.time()\n",
    "        for vec in item[1]:\n",
    "            output = calc_cosine(value_1, vec)\n",
    "            results.append(output)\n",
    "        t += (time.time() - start_time)\n",
    "    print('Calculation time for {} = {}'.format(item[0], format_t(avg_t(t, num_times))))"
   ]
  },
  {
   "cell_type": "markdown",
   "metadata": {},
   "source": [
    "### guvectorize"
   ]
  },
  {
   "cell_type": "code",
   "execution_count": 36,
   "metadata": {},
   "outputs": [
    {
     "name": "stderr",
     "output_type": "stream",
     "text": [
      "<ipython-input-36-797180d4863b>:3: NumbaPerformanceWarning: \u001b[1m\u001b[1mnp.dot() is faster on contiguous arrays, called on (array(float32, 1d, A), array(float32, 1d, A))\u001b[0m\u001b[0m\n",
      "  cosine = np.dot(a, b)\n"
     ]
    }
   ],
   "source": [
    "@guvectorize(['void(float32[:],float32[:], float32)'], '(n),(n)->()')\n",
    "def calc_cosine_guv(a, b, theta):\n",
    "    cosine = np.dot(a, b)\n",
    "    theta = math.acos(cosine)\n",
    "    theta = theta * 180 / math.pi"
   ]
  },
  {
   "cell_type": "code",
   "execution_count": 37,
   "metadata": {},
   "outputs": [
    {
     "name": "stdout",
     "output_type": "stream",
     "text": [
      "Calculation time for 300 = 405.512 ns\n",
      "Calculation time for 1000 = 1.267 ms\n",
      "Calculation time for 10000 = 13.491 ms\n",
      "Calculation time for 99999 = 134.331 ms\n"
     ]
    }
   ],
   "source": [
    "for item in list(zip(cases,vecs_list)):\n",
    "    t = 0\n",
    "    for i in range(num_times):\n",
    "        results = []\n",
    "        start_time = time.time()\n",
    "        for vec in item[1]:\n",
    "            output = calc_cosine_guv(value_1, vec)\n",
    "            results.append(output)\n",
    "        t += (time.time() - start_time)\n",
    "    print('Calculation time for {} = {}'.format(item[0], format_t(avg_t(t, num_times))))"
   ]
  },
  {
   "cell_type": "markdown",
   "metadata": {},
   "source": [
    "### Cuda"
   ]
  },
  {
   "cell_type": "code",
   "execution_count": 38,
   "metadata": {},
   "outputs": [],
   "source": [
    "@cuda.jit('void(float32[:],float32[:], float32[:])')\n",
    "def mult_gpu_1d(a, b, c):\n",
    "    x = cuda.grid(1)\n",
    "    c[0] = 0\n",
    "    if x < a.size:\n",
    "        c[0] += a[x] * b[x]\n",
    "    c[0] = math.acos(c[0]) * 180 / math.pi"
   ]
  },
  {
   "cell_type": "code",
   "execution_count": 39,
   "metadata": {},
   "outputs": [],
   "source": [
    "value_1_cuda = cuda.to_device(value_1)"
   ]
  },
  {
   "cell_type": "code",
   "execution_count": 40,
   "metadata": {},
   "outputs": [],
   "source": [
    "new_vecs_list = [values_300, values_1000]"
   ]
  },
  {
   "cell_type": "code",
   "execution_count": 41,
   "metadata": {},
   "outputs": [
    {
     "name": "stdout",
     "output_type": "stream",
     "text": [
      "Calculation time for 300 = 120.586 ms\n",
      "Calculation time for 1000 = 409.624 ms\n"
     ]
    }
   ],
   "source": [
    "for item in list(zip(cases,new_vecs_list)):\n",
    "    t = 0\n",
    "    for i in range(num_times):\n",
    "        results = []\n",
    "        result = cuda.device_array(shape=(1,), dtype=np.float32)\n",
    "        start_time = time.time()\n",
    "        for vec in item[1]:\n",
    "            vec_cuda = cuda.to_device(vec)\n",
    "            mult_gpu_1d(value_1_cuda, vec_cuda, result)\n",
    "            results.append(result.copy_to_host())\n",
    "        t += (time.time() - start_time)\n",
    "    print('Calculation time for {} = {}'.format(item[0], format_t(avg_t(t, num_times))))"
   ]
  },
  {
   "cell_type": "code",
   "execution_count": 42,
   "metadata": {},
   "outputs": [],
   "source": [
    "list_cuda_300 = [cuda.to_device(item) for item in values_300]\n",
    "list_cuda_1000 = [torch.from_numpy(item).cuda() for item in values_1000]\n",
    "list_cuda_10000 = [torch.from_numpy(item).cuda() for item in values_10000]\n",
    "list_cuda_99999 = [torch.from_numpy(item).cuda() for item in values_99999]\n",
    "# cuda_list = [list_cuda_300, list_cuda_1000, list_cuda_10000, list_cuda_99999]\n",
    "cuda_list = [list_cuda_300, list_cuda_1000]"
   ]
  },
  {
   "cell_type": "code",
   "execution_count": 43,
   "metadata": {},
   "outputs": [
    {
     "name": "stdout",
     "output_type": "stream",
     "text": [
      "Calculation time for 300 = 14.701 ms\n",
      "Calculation time for 1000 = 108.889 ms\n"
     ]
    }
   ],
   "source": [
    "for item in list(zip(cases,cuda_list)):\n",
    "    t = 0\n",
    "    for i in range(num_times):\n",
    "        results = []\n",
    "        result = cuda.device_array(shape=(1,), dtype=np.float32)\n",
    "        start_time = time.time()\n",
    "        for vec in item[1]:\n",
    "            mult_gpu_1d(value_1_cuda, vec, result)\n",
    "        t += (time.time() - start_time)\n",
    "    print('Calculation time for {} = {}'.format(item[0], format_t(avg_t(t, num_times))))"
   ]
  },
  {
   "cell_type": "markdown",
   "metadata": {},
   "source": [
    "Calculation time for 300 = 20.068 ms  \n",
    "Calculation time for 1000 = 161.570 ms  \n",
    "Calculation time for 10000 = 1.58 s  \n",
    "Calculation time for 99999 = 15.82 s  "
   ]
  },
  {
   "cell_type": "code",
   "execution_count": null,
   "metadata": {},
   "outputs": [],
   "source": [
    "TPB = 32\n",
    "\n",
    "@cuda.jit\n",
    "def fast_matmul(A, B, C):\n",
    "    \"\"\"\n",
    "    Perform matrix multiplication of C = A * B\n",
    "    Each thread computes one element of the result matrix C\n",
    "    \"\"\"\n",
    "\n",
    "    # Define an array in the shared memory\n",
    "    # The size and type of the arrays must be known at compile time\n",
    "    sA = cuda.shared.array(shape=(TPB, ), dtype=float32)\n",
    "    sB = cuda.shared.array(shape=(TPB, ), dtype=float32)\n",
    "\n",
    "    x = cuda.grid(1)\n",
    "    \n",
    "    tx = cuda.threadIdx.x\n",
    "    \n",
    "    if x >= C.shape[0]:\n",
    "        # Quit if (x, y) is outside of valid C boundary\n",
    "        return\n",
    "\n",
    "    # Each thread computes one element in the result matrix.\n",
    "    # The dot product is chunked into dot products of TPB-long vectors.\n",
    "    tmp = 0\n",
    "    for i in range(int(A.shape[0] / TPB)):\n",
    "        # Preload data into shared memory\n",
    "        sA[tx] = A[tx + i * TPB]\n",
    "        sB[tx] = B[tx + i * TPB]\n",
    "\n",
    "        # Wait until all threads finish preloading\n",
    "        cuda.syncthreads()\n",
    "\n",
    "        # Computes partial product on the shared memory\n",
    "        for j in range(TPB):\n",
    "            tmp += sA[tx] * sB[tx]\n",
    "\n",
    "        # Wait until all threads finish computing\n",
    "        cuda.syncthreads()\n",
    "\n",
    "    C[0] = tmp\n",
    "    \n",
    "    C[0] = math.acos(C[0]) * 180 / math.pi"
   ]
  },
  {
   "cell_type": "code",
   "execution_count": null,
   "metadata": {},
   "outputs": [],
   "source": [
    "threadsperblock = (TPB, )\n",
    "blockspergrid_x = int(math.ceil(value_1.shape[0] / threadsperblock[0]))\n",
    "blockspergrid = (blockspergrid_x, )"
   ]
  },
  {
   "cell_type": "code",
   "execution_count": null,
   "metadata": {},
   "outputs": [],
   "source": [
    "for item in list(zip(cases,vecs_list)):\n",
    "    t = 0\n",
    "    for i in range(num_times):\n",
    "        results = []\n",
    "        result = cuda.device_array(shape=(1,), dtype=np.float32)\n",
    "        start_time = time.time()\n",
    "        for vec in item[1]:\n",
    "            vec_cuda = cuda.to_device(vec)\n",
    "            fast_matmul[blockspergrid, threadsperblock](value_1_cuda, vec, result)\n",
    "            results.append(result.copy_to_host())\n",
    "        t += (time.time() - start_time)\n",
    "    print('Calculation time for {} = {}'.format(item[0], format_t(avg_t(t, num_times))))"
   ]
  },
  {
   "cell_type": "code",
   "execution_count": null,
   "metadata": {},
   "outputs": [],
   "source": [
    "for item in list(zip(cases,cuda_list)):\n",
    "    t = 0\n",
    "    for i in range(num_times):\n",
    "        results = []\n",
    "        result = cuda.device_array(shape=(1,), dtype=np.float32)\n",
    "        start_time = time.time()\n",
    "        for vec in item[1]:\n",
    "            #result = cuda.device_array(shape=(1,), dtype=np.float32)\n",
    "            fast_matmul[blockspergrid, threadsperblock](value_1_cuda, vec, result)\n",
    "        t += (time.time() - start_time)\n",
    "    print('Calculation time for {} = {}'.format(item[0], format_t(avg_t(t, num_times))))"
   ]
  },
  {
   "cell_type": "markdown",
   "metadata": {},
   "source": [
    "### Cupy"
   ]
  },
  {
   "cell_type": "code",
   "execution_count": 44,
   "metadata": {},
   "outputs": [],
   "source": [
    "import cupy as cp"
   ]
  },
  {
   "cell_type": "code",
   "execution_count": 45,
   "metadata": {},
   "outputs": [],
   "source": [
    "value_1_cupy = cp.asarray(value_1)"
   ]
  },
  {
   "cell_type": "code",
   "execution_count": 46,
   "metadata": {},
   "outputs": [],
   "source": [
    "def calc_cupy(buf_vec, buf_data, buf_times):\n",
    "    total_time = 0\n",
    "    for i in range(buf_times):\n",
    "        results = []\n",
    "        start_time = time.time()\n",
    "        for item in buf_data:\n",
    "            item_cupy = cp.asarray(item)\n",
    "            cosine = cp.dot(buf_vec, item_cupy)\n",
    "            theta = cp.arccos(cosine)\n",
    "            theta = theta * 180 / np.pi\n",
    "            results.append(theta.get())\n",
    "        total_time += (time.time() - start_time)\n",
    "    return total_time"
   ]
  },
  {
   "cell_type": "code",
   "execution_count": 48,
   "metadata": {},
   "outputs": [],
   "source": [
    "cupy_vecs_list = [values_300, values_1000]"
   ]
  },
  {
   "cell_type": "code",
   "execution_count": 49,
   "metadata": {},
   "outputs": [
    {
     "name": "stdout",
     "output_type": "stream",
     "text": [
      "Calculation time for 300 = 56.801 ms\n",
      "Calculation time for 1000 = 192.784 ms\n"
     ]
    }
   ],
   "source": [
    "for item in list(zip(cases,cupy_vecs_list)):\n",
    "    t = calc_cupy(value_1_cupy, item[1], num_times)\n",
    "    print('Calculation time for {} = {}'.format(item[0], format_t(avg_t(t, num_times))))"
   ]
  },
  {
   "cell_type": "code",
   "execution_count": 50,
   "metadata": {},
   "outputs": [],
   "source": [
    "list_cupy_300 = [cp.asarray(item) for item in values_300]\n",
    "list_cupy_1000 = [cp.asarray(item) for item in values_1000]\n",
    "list_cupy_10000 = [cp.asarray(item) for item in values_10000]\n",
    "list_cupy_99999 = [cp.asarray(item) for item in values_99999]\n",
    "# cupy_list = [list_cupy_300, list_cupy_1000, list_cupy_10000, list_cupy_99999]\n",
    "cupy_list = [list_cupy_300, list_cupy_1000]"
   ]
  },
  {
   "cell_type": "code",
   "execution_count": 51,
   "metadata": {},
   "outputs": [],
   "source": [
    "def calc_cupy_(buf_vec, buf_data, buf_times):\n",
    "    total_time = 0\n",
    "    for i in range(buf_times):\n",
    "        results = []\n",
    "        start_time = time.time()\n",
    "        for item in buf_data:\n",
    "            with cp.cuda.Device(0):\n",
    "                cosine = cp.dot(buf_vec, item)\n",
    "                theta = cp.arccos(cosine)\n",
    "                theta = theta * 180 / np.pi\n",
    "        total_time += (time.time() - start_time)\n",
    "    return total_time"
   ]
  },
  {
   "cell_type": "code",
   "execution_count": 52,
   "metadata": {},
   "outputs": [
    {
     "name": "stdout",
     "output_type": "stream",
     "text": [
      "Calculation time for 300 = 28.828 ms\n",
      "Calculation time for 1000 = 95.805 ms\n"
     ]
    }
   ],
   "source": [
    "for item in list(zip(cases,cupy_list)):\n",
    "    t = calc_cupy_(value_1_cupy, item[1], num_times)\n",
    "    print('Calculation time for {} = {}'.format(item[0], format_t(avg_t(t, num_times))))"
   ]
  },
  {
   "cell_type": "code",
   "execution_count": 53,
   "metadata": {},
   "outputs": [],
   "source": [
    "def calc_cupy__(buf_vec, buf_data, buf_times):\n",
    "    total_time = 0\n",
    "    for i in range(buf_times):\n",
    "        results = []\n",
    "        step_time = 0\n",
    "        for item in buf_data:\n",
    "            item_cupy = cp.asarray(item)\n",
    "            t0 = time.time()\n",
    "            cosine = cp.dot(buf_vec, item_cupy)\n",
    "            theta = cp.arccos(cosine)\n",
    "            theta = theta * 180 / np.pi\n",
    "            step_time += time.time() - t0\n",
    "            results.append(theta.get())\n",
    "        total_time += step_time\n",
    "    return total_time"
   ]
  },
  {
   "cell_type": "code",
   "execution_count": 54,
   "metadata": {},
   "outputs": [
    {
     "name": "stdout",
     "output_type": "stream",
     "text": [
      "Calculation time for 300 = 28.446 ms\n",
      "Calculation time for 1000 = 95.751 ms\n"
     ]
    }
   ],
   "source": [
    "for item in list(zip(cases,cupy_vecs_list)):\n",
    "    t = calc_cupy__(value_1_cupy, item[1], num_times)\n",
    "    print('Calculation time for {} = {}'.format(item[0], format_t(avg_t(t, num_times))))"
   ]
  },
  {
   "cell_type": "code",
   "execution_count": null,
   "metadata": {},
   "outputs": [],
   "source": []
  },
  {
   "cell_type": "code",
   "execution_count": null,
   "metadata": {},
   "outputs": [],
   "source": []
  }
 ],
 "metadata": {
  "kernelspec": {
   "display_name": "Python 3",
   "language": "python",
   "name": "python3"
  },
  "language_info": {
   "codemirror_mode": {
    "name": "ipython",
    "version": 3
   },
   "file_extension": ".py",
   "mimetype": "text/x-python",
   "name": "python",
   "nbconvert_exporter": "python",
   "pygments_lexer": "ipython3",
   "version": "3.7.6"
  }
 },
 "nbformat": 4,
 "nbformat_minor": 2
}
